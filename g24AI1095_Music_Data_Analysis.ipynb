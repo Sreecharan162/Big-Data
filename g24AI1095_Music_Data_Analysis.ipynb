{
 "cells": [
  {
   "cell_type": "code",
   "execution_count": 1,
   "metadata": {},
   "outputs": [
    {
     "name": "stdout",
     "output_type": "stream",
     "text": [
      "Requirement already satisfied: pysqlite3 in /Users/sreecharan/opt/anaconda3/lib/python3.9/site-packages (0.5.4)\r\n"
     ]
    }
   ],
   "source": [
    "!pip install pysqlite3"
   ]
  },
  {
   "cell_type": "code",
   "execution_count": 14,
   "metadata": {},
   "outputs": [],
   "source": [
    "import pymysql\n",
    "from pysqlite3 import dbapi2 as sqlite3\n",
    "import pandas as pd\n",
    "from IPython.display import display, HTML"
   ]
  },
  {
   "cell_type": "code",
   "execution_count": 15,
   "metadata": {},
   "outputs": [
    {
     "name": "stdout",
     "output_type": "stream",
     "text": [
      "(3, 39, 3)\n"
     ]
    }
   ],
   "source": [
    "print(sqlite3.sqlite_version_info)"
   ]
  },
  {
   "cell_type": "code",
   "execution_count": 26,
   "metadata": {},
   "outputs": [],
   "source": [
    "def display_query_result(cursor, query):\n",
    "    cursor.execute(query)\n",
    "    df = pd.DataFrame(cursor.fetchall(), columns=[i[0] for i in cursor.description])\n",
    "    styled_html = f\"<b><font color='green'>{query}</font></b><br>{df.to_html(index=False)}\"\n",
    "    display(HTML(styled_html))"
   ]
  },
  {
   "cell_type": "code",
   "execution_count": 25,
   "metadata": {},
   "outputs": [],
   "source": [
    "host = \"127.0.0.1\"\n",
    "user = \"root\"\n",
    "password = \"Sree123@\"\n",
    "\n",
    "\n",
    "connection = pymysql.connect(\n",
    "    host=host,\n",
    "    user=user,\n",
    "    password=password,\n",
    "    charset='utf8mb4',\n",
    "    cursorclass=pymysql.cursors.DictCursor\n",
    ")\n",
    "\n",
    "cursor = connection.cursor()"
   ]
  },
  {
   "cell_type": "code",
   "execution_count": 18,
   "metadata": {},
   "outputs": [
    {
     "name": "stdout",
     "output_type": "stream",
     "text": [
      "Database 'music_streaming_1' has been created .\n"
     ]
    }
   ],
   "source": [
    "cursor.execute(\"CREATE DATABASE IF NOT EXISTS music_streaming_1;\")\n",
    "print(\"Database 'music_streaming_1' has been created .\")"
   ]
  },
  {
   "cell_type": "code",
   "execution_count": 28,
   "metadata": {},
   "outputs": [
    {
     "name": "stdout",
     "output_type": "stream",
     "text": [
      "Database 'music_streaming_1' has been selected\n"
     ]
    }
   ],
   "source": [
    "cursor.execute(\"use music_streaming_1 \")\n",
    "print(\"Database 'music_streaming_1' has been selected\")"
   ]
  },
  {
   "cell_type": "code",
   "execution_count": 20,
   "metadata": {},
   "outputs": [
    {
     "name": "stdout",
     "output_type": "stream",
     "text": [
      "Users Table has been created\n",
      "Songs Table has been created\n",
      "Listens Table has been created\n",
      "Recommendations Table has been created\n"
     ]
    }
   ],
   "source": [
    "cursor.execute(\"\"\"\n",
    "      CREATE TABLE IF NOT EXISTS Users (\n",
    "        user_id INTEGER PRIMARY KEY,\n",
    "        name VARCHAR(100) NOT NULL,\n",
    "        email VARCHAR(100) NOT NULL UNIQUE\n",
    "      );\n",
    "\"\"\")\n",
    "print(\"Users Table has been created\")\n",
    "\n",
    "cursor.execute(\"\"\"\n",
    "  CREATE TABLE IF NOT EXISTS Songs (\n",
    "    song_id INTEGER PRIMARY KEY,\n",
    "    title VARCHAR(100) NOT NULL,\n",
    "    artist VARCHAR(100) NOT NULL,\n",
    "    genre VARCHAR(100)\n",
    "  );\n",
    "\"\"\"\n",
    ")\n",
    "print(\"Songs Table has been created\")\n",
    "\n",
    "cursor.execute(\"\"\"\n",
    "    CREATE TABLE IF NOT EXISTS Listens (\n",
    "      listen_id INTEGER PRIMARY KEY,\n",
    "      user_id INTEGER NOT NULL,\n",
    "      song_id INTEGER NOT NULL,\n",
    "      rating FLOAT,\n",
    "      listen_time TIMESTAMP,\n",
    "      FOREIGN KEY (user_id) REFERENCES Users(user_id),\n",
    "      FOREIGN KEY (song_id) REFERENCES Songs(song_id)\n",
    "    );\n",
    "\"\"\")\n",
    "print(\"Listens Table has been created\")\n",
    "\n",
    "cursor.execute(\"\"\"\n",
    "  CREATE TABLE IF NOT EXISTS Recommendations (\n",
    "      recommendation_id INTEGER NOT NULL,\n",
    "      recommendation_time TIMESTAMP,\n",
    "      user_id INTEGER NOT NULL,\n",
    "      song_id INTEGER NOT NULL,\n",
    "      FOREIGN KEY (user_id) REFERENCES Users(user_id),\n",
    "      FOREIGN KEY (song_id) REFERENCES Songs(song_id)\n",
    "  );\n",
    "\"\"\")\n",
    "print(\"Recommendations Table has been created\")"
   ]
  },
  {
   "cell_type": "code",
   "execution_count": 21,
   "metadata": {},
   "outputs": [
    {
     "name": "stdout",
     "output_type": "stream",
     "text": [
      "User Data has been inserted\n",
      "Songs Data has been inserted\n",
      "Listens Data has been inserted\n"
     ]
    }
   ],
   "source": [
    "cursor.execute(\"\"\"\n",
    "  INSERT INTO Users (user_id, name, email)\n",
    "  VALUES\n",
    "    (1, 'Mickey', 'mickey@example.com'),\n",
    "    (2, 'Minnie', 'minnie@example.com'),\n",
    "    (3, 'Daffy', 'daffy@example.com'),\n",
    "    (4, 'Pluto', 'pluto@example.com');\n",
    "\"\"\")\n",
    "print(\"User Data has been inserted\")\n",
    "\n",
    "cursor.execute(\"\"\"\n",
    "INSERT INTO Songs (song_id, title, artist, genre)\n",
    "VALUES\n",
    "    (1, 'Evermore', 'Taylor Swift', 'Pop'),\n",
    "    (2, 'Willow', 'Taylor Swift', 'Pop'),\n",
    "    (3, 'Shape of You', 'Ed Sheeran', 'Rock'),\n",
    "    (4, 'Photograph', 'Ed Sheeran', 'Rock'),\n",
    "    (5, 'Shivers', 'Ed Sheeran', 'Rock'),\n",
    "    (6, 'Yesterday', 'Beatles', 'Classic'),\n",
    "    (7, 'Yellow Submarine', 'Beatles', 'Classic'),\n",
    "    (8, 'Hey Jude', 'Beatles', 'Classic'),\n",
    "    (9, 'Bad Blood', 'Taylor Swift', 'Rock'),\n",
    "    (10, 'DJ Mix', 'DJ', NULL);\n",
    "\"\"\")\n",
    "print(\"Songs Data has been inserted\")\n",
    "\n",
    "cursor.execute(\"\"\"\n",
    "INSERT INTO Listens (listen_id, user_id, song_id, rating, listen_time)\n",
    "VALUES\n",
    "    (1, 1, 1, 4.5, '2024-08-30 14:35:00'),\n",
    "    (2, 1, 2, 4.2, NULL),\n",
    "    (3, 1, 6, 3.9, '2024-08-29 10:15:00'),\n",
    "    (4, 2, 2, 4.7, NULL),\n",
    "    (5, 2, 7, 4.6, '2024-08-28 09:20:00'),\n",
    "    (6, 2, 8, 3.9, '2024-08-27 16:45:00'),\n",
    "    (7, 3, 1, 2.9, NULL),\n",
    "    (8, 3, 2, 4.9, '2024-08-26 12:30:00'),\n",
    "    (9, 3, 6, NULL, NULL);\n",
    "\"\"\")\n",
    "print(\"Listens Data has been inserted\")"
   ]
  },
  {
   "cell_type": "code",
   "execution_count": 22,
   "metadata": {},
   "outputs": [
    {
     "name": "stdout",
     "output_type": "stream",
     "text": [
      "All changes committed to the database.\n"
     ]
    }
   ],
   "source": [
    "connection.commit()\n",
    "print(\"All changes committed to the database.\")"
   ]
  },
  {
   "cell_type": "code",
   "execution_count": 11,
   "metadata": {
    "scrolled": false
   },
   "outputs": [
    {
     "data": {
      "text/html": [
       "<b><font color='green'>SELECT * FROM Users;</font></b><br><table border=\"1\" class=\"dataframe\">\n",
       "  <thead>\n",
       "    <tr style=\"text-align: right;\">\n",
       "      <th>user_id</th>\n",
       "      <th>name</th>\n",
       "      <th>email</th>\n",
       "    </tr>\n",
       "  </thead>\n",
       "  <tbody>\n",
       "    <tr>\n",
       "      <td>1</td>\n",
       "      <td>Mickey</td>\n",
       "      <td>mickey@example.com</td>\n",
       "    </tr>\n",
       "    <tr>\n",
       "      <td>2</td>\n",
       "      <td>Minnie</td>\n",
       "      <td>minnie@example.com</td>\n",
       "    </tr>\n",
       "    <tr>\n",
       "      <td>3</td>\n",
       "      <td>Daffy</td>\n",
       "      <td>daffy@example.com</td>\n",
       "    </tr>\n",
       "    <tr>\n",
       "      <td>4</td>\n",
       "      <td>Pluto</td>\n",
       "      <td>pluto@example.com</td>\n",
       "    </tr>\n",
       "  </tbody>\n",
       "</table>"
      ],
      "text/plain": [
       "<IPython.core.display.HTML object>"
      ]
     },
     "metadata": {},
     "output_type": "display_data"
    }
   ],
   "source": [
    "query = \"SELECT * FROM Users;\"\n",
    "display_query_result(cursor,query)"
   ]
  },
  {
   "cell_type": "code",
   "execution_count": 12,
   "metadata": {},
   "outputs": [
    {
     "data": {
      "text/html": [
       "<b><font color='green'>SELECT * FROM Songs;</font></b><br><table border=\"1\" class=\"dataframe\">\n",
       "  <thead>\n",
       "    <tr style=\"text-align: right;\">\n",
       "      <th>song_id</th>\n",
       "      <th>title</th>\n",
       "      <th>artist</th>\n",
       "      <th>genre</th>\n",
       "    </tr>\n",
       "  </thead>\n",
       "  <tbody>\n",
       "    <tr>\n",
       "      <td>1</td>\n",
       "      <td>Evermore</td>\n",
       "      <td>Taylor Swift</td>\n",
       "      <td>Pop</td>\n",
       "    </tr>\n",
       "    <tr>\n",
       "      <td>2</td>\n",
       "      <td>Willow</td>\n",
       "      <td>Taylor Swift</td>\n",
       "      <td>Pop</td>\n",
       "    </tr>\n",
       "    <tr>\n",
       "      <td>3</td>\n",
       "      <td>Shape of You</td>\n",
       "      <td>Ed Sheeran</td>\n",
       "      <td>Rock</td>\n",
       "    </tr>\n",
       "    <tr>\n",
       "      <td>4</td>\n",
       "      <td>Photograph</td>\n",
       "      <td>Ed Sheeran</td>\n",
       "      <td>Rock</td>\n",
       "    </tr>\n",
       "    <tr>\n",
       "      <td>5</td>\n",
       "      <td>Shivers</td>\n",
       "      <td>Ed Sheeran</td>\n",
       "      <td>Rock</td>\n",
       "    </tr>\n",
       "    <tr>\n",
       "      <td>6</td>\n",
       "      <td>Yesterday</td>\n",
       "      <td>Beatles</td>\n",
       "      <td>Classic</td>\n",
       "    </tr>\n",
       "    <tr>\n",
       "      <td>7</td>\n",
       "      <td>Yellow Submarine</td>\n",
       "      <td>Beatles</td>\n",
       "      <td>Classic</td>\n",
       "    </tr>\n",
       "    <tr>\n",
       "      <td>8</td>\n",
       "      <td>Hey Jude</td>\n",
       "      <td>Beatles</td>\n",
       "      <td>Classic</td>\n",
       "    </tr>\n",
       "    <tr>\n",
       "      <td>9</td>\n",
       "      <td>Bad Blood</td>\n",
       "      <td>Taylor Swift</td>\n",
       "      <td>Rock</td>\n",
       "    </tr>\n",
       "    <tr>\n",
       "      <td>10</td>\n",
       "      <td>DJ Mix</td>\n",
       "      <td>DJ</td>\n",
       "      <td>None</td>\n",
       "    </tr>\n",
       "  </tbody>\n",
       "</table>"
      ],
      "text/plain": [
       "<IPython.core.display.HTML object>"
      ]
     },
     "metadata": {},
     "output_type": "display_data"
    }
   ],
   "source": [
    "query = \"SELECT * FROM Songs;\"\n",
    "display_query_result(cursor, query)"
   ]
  },
  {
   "cell_type": "code",
   "execution_count": 90,
   "metadata": {},
   "outputs": [
    {
     "data": {
      "text/html": [
       "<b><font color='green'>SELECT * FROM Listens;</font></b><br><table border=\"1\" class=\"dataframe\">\n",
       "  <thead>\n",
       "    <tr style=\"text-align: right;\">\n",
       "      <th>listen_id</th>\n",
       "      <th>user_id</th>\n",
       "      <th>song_id</th>\n",
       "      <th>rating</th>\n",
       "      <th>listen_time</th>\n",
       "    </tr>\n",
       "  </thead>\n",
       "  <tbody>\n",
       "    <tr>\n",
       "      <td>1</td>\n",
       "      <td>1</td>\n",
       "      <td>1</td>\n",
       "      <td>4.5</td>\n",
       "      <td>2024-08-30 14:35:00</td>\n",
       "    </tr>\n",
       "    <tr>\n",
       "      <td>2</td>\n",
       "      <td>1</td>\n",
       "      <td>2</td>\n",
       "      <td>4.2</td>\n",
       "      <td>NaT</td>\n",
       "    </tr>\n",
       "    <tr>\n",
       "      <td>3</td>\n",
       "      <td>1</td>\n",
       "      <td>6</td>\n",
       "      <td>3.9</td>\n",
       "      <td>2024-08-29 10:15:00</td>\n",
       "    </tr>\n",
       "    <tr>\n",
       "      <td>4</td>\n",
       "      <td>2</td>\n",
       "      <td>2</td>\n",
       "      <td>4.7</td>\n",
       "      <td>NaT</td>\n",
       "    </tr>\n",
       "    <tr>\n",
       "      <td>5</td>\n",
       "      <td>2</td>\n",
       "      <td>7</td>\n",
       "      <td>4.6</td>\n",
       "      <td>2024-08-28 09:20:00</td>\n",
       "    </tr>\n",
       "    <tr>\n",
       "      <td>6</td>\n",
       "      <td>2</td>\n",
       "      <td>8</td>\n",
       "      <td>3.9</td>\n",
       "      <td>2024-08-27 16:45:00</td>\n",
       "    </tr>\n",
       "    <tr>\n",
       "      <td>7</td>\n",
       "      <td>3</td>\n",
       "      <td>1</td>\n",
       "      <td>2.9</td>\n",
       "      <td>NaT</td>\n",
       "    </tr>\n",
       "    <tr>\n",
       "      <td>8</td>\n",
       "      <td>3</td>\n",
       "      <td>2</td>\n",
       "      <td>4.9</td>\n",
       "      <td>2024-08-26 12:30:00</td>\n",
       "    </tr>\n",
       "    <tr>\n",
       "      <td>9</td>\n",
       "      <td>3</td>\n",
       "      <td>6</td>\n",
       "      <td>NaN</td>\n",
       "      <td>NaT</td>\n",
       "    </tr>\n",
       "  </tbody>\n",
       "</table>"
      ],
      "text/plain": [
       "<IPython.core.display.HTML object>"
      ]
     },
     "metadata": {},
     "output_type": "display_data"
    }
   ],
   "source": [
    "query = \"SELECT * FROM Listens;\"\n",
    "display_query_result(cursor,query)"
   ]
  },
  {
   "cell_type": "code",
   "execution_count": 91,
   "metadata": {},
   "outputs": [
    {
     "data": {
      "text/html": [
       "<b><font color='green'>\n",
       "SELECT Songs.title, Songs.artist FROM Songs\n",
       "WHERE Songs.genre= 'Classic';\n",
       "</font></b><br><table border=\"1\" class=\"dataframe\">\n",
       "  <thead>\n",
       "    <tr style=\"text-align: right;\">\n",
       "      <th>title</th>\n",
       "      <th>artist</th>\n",
       "    </tr>\n",
       "  </thead>\n",
       "  <tbody>\n",
       "    <tr>\n",
       "      <td>Yesterday</td>\n",
       "      <td>Beatles</td>\n",
       "    </tr>\n",
       "    <tr>\n",
       "      <td>Yellow Submarine</td>\n",
       "      <td>Beatles</td>\n",
       "    </tr>\n",
       "    <tr>\n",
       "      <td>Hey Jude</td>\n",
       "      <td>Beatles</td>\n",
       "    </tr>\n",
       "  </tbody>\n",
       "</table>"
      ],
      "text/plain": [
       "<IPython.core.display.HTML object>"
      ]
     },
     "metadata": {},
     "output_type": "display_data"
    }
   ],
   "source": [
    "qry_classic_songs = \"\"\"\n",
    "SELECT Songs.title, Songs.artist FROM Songs\n",
    "WHERE Songs.genre= 'Classic';\n",
    "\"\"\"\n",
    "display_query_result(cursor, qry_classic_songs)"
   ]
  },
  {
   "cell_type": "code",
   "execution_count": 67,
   "metadata": {
    "colab": {
     "base_uri": "https://localhost:8080/",
     "height": 129
    },
    "id": "pO8Ok1MuX1XH",
    "outputId": "9bdc68c3-ea98-4217-98e0-393e77b41fd5"
   },
   "outputs": [
    {
     "data": {
      "text/html": [
       "<b><font color='green'>\n",
       "SELECT Songs.title, Songs.artist FROM Songs\n",
       "WHERE Songs.genre= 'Classic' AND\n",
       "  Songs.title LIKE 'Ye%';\n",
       "</font></b><br><table border=\"1\" class=\"dataframe\">\n",
       "  <thead>\n",
       "    <tr style=\"text-align: right;\">\n",
       "      <th>title</th>\n",
       "      <th>artist</th>\n",
       "    </tr>\n",
       "  </thead>\n",
       "  <tbody>\n",
       "    <tr>\n",
       "      <td>Yesterday</td>\n",
       "      <td>Beatles</td>\n",
       "    </tr>\n",
       "    <tr>\n",
       "      <td>Yellow Submarine</td>\n",
       "      <td>Beatles</td>\n",
       "    </tr>\n",
       "  </tbody>\n",
       "</table>"
      ],
      "text/plain": [
       "<IPython.core.display.HTML object>"
      ]
     },
     "metadata": {},
     "output_type": "display_data"
    }
   ],
   "source": [
    "#Find titles and artists if songs in Classic Genre with titles starting like Ye...\n",
    "\n",
    "qry_classic_songs2 = \"\"\"\n",
    "SELECT Songs.title, Songs.artist FROM Songs\n",
    "WHERE Songs.genre= 'Classic' AND\n",
    "  Songs.title LIKE 'Ye%';\n",
    "\"\"\"\n",
    "display_query_result(cursor, qry_classic_songs2)"
   ]
  },
  {
   "cell_type": "code",
   "execution_count": 68,
   "metadata": {
    "colab": {
     "base_uri": "https://localhost:8080/",
     "height": 380
    },
    "id": "4ba6XEMhYgPP",
    "outputId": "d7062934-a347-4ce6-92ae-55a915e73989"
   },
   "outputs": [
    {
     "data": {
      "text/html": [
       "<b><font color='green'>\n",
       "SELECT genre from Songs;\n",
       "</font></b><br><table border=\"1\" class=\"dataframe\">\n",
       "  <thead>\n",
       "    <tr style=\"text-align: right;\">\n",
       "      <th>genre</th>\n",
       "    </tr>\n",
       "  </thead>\n",
       "  <tbody>\n",
       "    <tr>\n",
       "      <td>Pop</td>\n",
       "    </tr>\n",
       "    <tr>\n",
       "      <td>Pop</td>\n",
       "    </tr>\n",
       "    <tr>\n",
       "      <td>Rock</td>\n",
       "    </tr>\n",
       "    <tr>\n",
       "      <td>Rock</td>\n",
       "    </tr>\n",
       "    <tr>\n",
       "      <td>Rock</td>\n",
       "    </tr>\n",
       "    <tr>\n",
       "      <td>Classic</td>\n",
       "    </tr>\n",
       "    <tr>\n",
       "      <td>Classic</td>\n",
       "    </tr>\n",
       "    <tr>\n",
       "      <td>Classic</td>\n",
       "    </tr>\n",
       "    <tr>\n",
       "      <td>Rock</td>\n",
       "    </tr>\n",
       "    <tr>\n",
       "      <td>None</td>\n",
       "    </tr>\n",
       "  </tbody>\n",
       "</table>"
      ],
      "text/plain": [
       "<IPython.core.display.HTML object>"
      ]
     },
     "metadata": {},
     "output_type": "display_data"
    }
   ],
   "source": [
    "#List all the genres in the Songs table\n",
    "qry_genres = \"\"\"\n",
    "SELECT genre from Songs;\n",
    "\"\"\"\n",
    "display_query_result(cursor, qry_genres)"
   ]
  },
  {
   "cell_type": "code",
   "execution_count": 69,
   "metadata": {
    "colab": {
     "base_uri": "https://localhost:8080/",
     "height": 192
    },
    "id": "FFirMlWqYzEg",
    "outputId": "35abe90a-92db-4245-98fa-7018777914d0"
   },
   "outputs": [
    {
     "data": {
      "text/html": [
       "<b><font color='green'>\n",
       "SELECT DISTINCT genre\n",
       "FROM Songs;\n",
       "</font></b><br><table border=\"1\" class=\"dataframe\">\n",
       "  <thead>\n",
       "    <tr style=\"text-align: right;\">\n",
       "      <th>genre</th>\n",
       "    </tr>\n",
       "  </thead>\n",
       "  <tbody>\n",
       "    <tr>\n",
       "      <td>Pop</td>\n",
       "    </tr>\n",
       "    <tr>\n",
       "      <td>Rock</td>\n",
       "    </tr>\n",
       "    <tr>\n",
       "      <td>Classic</td>\n",
       "    </tr>\n",
       "    <tr>\n",
       "      <td>None</td>\n",
       "    </tr>\n",
       "  </tbody>\n",
       "</table>"
      ],
      "text/plain": [
       "<IPython.core.display.HTML object>"
      ]
     },
     "metadata": {},
     "output_type": "display_data"
    }
   ],
   "source": [
    "#Find the unique genres from the Songs table\n",
    "\n",
    "qry_distinct = \"\"\"\n",
    "SELECT DISTINCT genre\n",
    "FROM Songs;\n",
    "\"\"\"\n",
    "\n",
    "display_query_result(cursor, qry_distinct)"
   ]
  },
  {
   "cell_type": "code",
   "execution_count": 70,
   "metadata": {
    "colab": {
     "base_uri": "https://localhost:8080/",
     "height": 129
    },
    "id": "AoxzZqg4ZLBR",
    "outputId": "88430f6f-0c6b-4e83-a89a-ca62ef413ae9"
   },
   "outputs": [
    {
     "data": {
      "text/html": [
       "<b><font color='green'>\n",
       "SELECT artist, genre,count(*) as num_songs\n",
       "FROM Songs\n",
       "WHERE Songs.artist='Taylor Swift'\n",
       "GROUP BY artist, genre;\n",
       "</font></b><br><table border=\"1\" class=\"dataframe\">\n",
       "  <thead>\n",
       "    <tr style=\"text-align: right;\">\n",
       "      <th>artist</th>\n",
       "      <th>genre</th>\n",
       "      <th>num_songs</th>\n",
       "    </tr>\n",
       "  </thead>\n",
       "  <tbody>\n",
       "    <tr>\n",
       "      <td>Taylor Swift</td>\n",
       "      <td>Pop</td>\n",
       "      <td>2</td>\n",
       "    </tr>\n",
       "    <tr>\n",
       "      <td>Taylor Swift</td>\n",
       "      <td>Rock</td>\n",
       "      <td>1</td>\n",
       "    </tr>\n",
       "  </tbody>\n",
       "</table>"
      ],
      "text/plain": [
       "<IPython.core.display.HTML object>"
      ]
     },
     "metadata": {},
     "output_type": "display_data"
    }
   ],
   "source": [
    "#Find the number of songs by Taylor Swift in different genres\n",
    "\n",
    "qry_taylor_count=\"\"\"\n",
    "SELECT artist, genre,count(*) as num_songs\n",
    "FROM Songs\n",
    "WHERE Songs.artist='Taylor Swift'\n",
    "GROUP BY artist, genre;\n",
    "\"\"\"\n",
    "display_query_result(cursor, qry_taylor_count)"
   ]
  },
  {
   "cell_type": "code",
   "execution_count": 71,
   "metadata": {
    "colab": {
     "base_uri": "https://localhost:8080/",
     "height": 224
    },
    "id": "2I0ryfrOaQQe",
    "outputId": "a8c195b6-a5c3-4f56-cd96-7a292a807983"
   },
   "outputs": [
    {
     "data": {
      "text/html": [
       "<b><font color='green'>\n",
       "SELECT artist, genre,count(*) as num_songs\n",
       "FROM Songs\n",
       "GROUP BY artist, genre;\n",
       "</font></b><br><table border=\"1\" class=\"dataframe\">\n",
       "  <thead>\n",
       "    <tr style=\"text-align: right;\">\n",
       "      <th>artist</th>\n",
       "      <th>genre</th>\n",
       "      <th>num_songs</th>\n",
       "    </tr>\n",
       "  </thead>\n",
       "  <tbody>\n",
       "    <tr>\n",
       "      <td>Taylor Swift</td>\n",
       "      <td>Pop</td>\n",
       "      <td>2</td>\n",
       "    </tr>\n",
       "    <tr>\n",
       "      <td>Ed Sheeran</td>\n",
       "      <td>Rock</td>\n",
       "      <td>3</td>\n",
       "    </tr>\n",
       "    <tr>\n",
       "      <td>Beatles</td>\n",
       "      <td>Classic</td>\n",
       "      <td>3</td>\n",
       "    </tr>\n",
       "    <tr>\n",
       "      <td>Taylor Swift</td>\n",
       "      <td>Rock</td>\n",
       "      <td>1</td>\n",
       "    </tr>\n",
       "    <tr>\n",
       "      <td>DJ</td>\n",
       "      <td>None</td>\n",
       "      <td>1</td>\n",
       "    </tr>\n",
       "  </tbody>\n",
       "</table>"
      ],
      "text/plain": [
       "<IPython.core.display.HTML object>"
      ]
     },
     "metadata": {},
     "output_type": "display_data"
    }
   ],
   "source": [
    "#Find the number of songs by all artists in different genres\n",
    "\n",
    "qry_artist_count=\"\"\"\n",
    "SELECT artist, genre,count(*) as num_songs\n",
    "FROM Songs\n",
    "GROUP BY artist, genre;\n",
    "\"\"\"\n",
    "display_query_result(cursor, qry_artist_count)\n"
   ]
  },
  {
   "cell_type": "code",
   "execution_count": 72,
   "metadata": {
    "colab": {
     "base_uri": "https://localhost:8080/",
     "height": 506
    },
    "id": "JYtU1XpWarvh",
    "outputId": "c7882e14-5f3c-4de8-e4ac-2556b3390408"
   },
   "outputs": [
    {
     "data": {
      "text/html": [
       "<b><font color='green'>\n",
       "SELECT * FROM Songs\n",
       "LEFT JOIN Listens ON Songs.song_id=Listens.song_id\n",
       "LEFT JOIN Users ON Listens.user_id=Users.user_id;\n",
       "</font></b><br><table border=\"1\" class=\"dataframe\">\n",
       "  <thead>\n",
       "    <tr style=\"text-align: right;\">\n",
       "      <th>song_id</th>\n",
       "      <th>title</th>\n",
       "      <th>artist</th>\n",
       "      <th>genre</th>\n",
       "      <th>listen_id</th>\n",
       "      <th>user_id</th>\n",
       "      <th>song_id</th>\n",
       "      <th>rating</th>\n",
       "      <th>listen_time</th>\n",
       "      <th>user_id</th>\n",
       "      <th>name</th>\n",
       "      <th>email</th>\n",
       "    </tr>\n",
       "  </thead>\n",
       "  <tbody>\n",
       "    <tr>\n",
       "      <td>1</td>\n",
       "      <td>Evermore</td>\n",
       "      <td>Taylor Swift</td>\n",
       "      <td>Pop</td>\n",
       "      <td>1.0</td>\n",
       "      <td>1.0</td>\n",
       "      <td>1</td>\n",
       "      <td>4.5</td>\n",
       "      <td>2024-08-30 14:35:00</td>\n",
       "      <td>1.0</td>\n",
       "      <td>Mickey</td>\n",
       "      <td>mickey@example.com</td>\n",
       "    </tr>\n",
       "    <tr>\n",
       "      <td>1</td>\n",
       "      <td>Evermore</td>\n",
       "      <td>Taylor Swift</td>\n",
       "      <td>Pop</td>\n",
       "      <td>7.0</td>\n",
       "      <td>3.0</td>\n",
       "      <td>1</td>\n",
       "      <td>2.9</td>\n",
       "      <td>NaT</td>\n",
       "      <td>3.0</td>\n",
       "      <td>Daffy</td>\n",
       "      <td>daffy@example.com</td>\n",
       "    </tr>\n",
       "    <tr>\n",
       "      <td>2</td>\n",
       "      <td>Willow</td>\n",
       "      <td>Taylor Swift</td>\n",
       "      <td>Pop</td>\n",
       "      <td>2.0</td>\n",
       "      <td>1.0</td>\n",
       "      <td>2</td>\n",
       "      <td>4.2</td>\n",
       "      <td>NaT</td>\n",
       "      <td>1.0</td>\n",
       "      <td>Mickey</td>\n",
       "      <td>mickey@example.com</td>\n",
       "    </tr>\n",
       "    <tr>\n",
       "      <td>2</td>\n",
       "      <td>Willow</td>\n",
       "      <td>Taylor Swift</td>\n",
       "      <td>Pop</td>\n",
       "      <td>4.0</td>\n",
       "      <td>2.0</td>\n",
       "      <td>2</td>\n",
       "      <td>4.7</td>\n",
       "      <td>NaT</td>\n",
       "      <td>2.0</td>\n",
       "      <td>Minnie</td>\n",
       "      <td>minnie@example.com</td>\n",
       "    </tr>\n",
       "    <tr>\n",
       "      <td>2</td>\n",
       "      <td>Willow</td>\n",
       "      <td>Taylor Swift</td>\n",
       "      <td>Pop</td>\n",
       "      <td>8.0</td>\n",
       "      <td>3.0</td>\n",
       "      <td>2</td>\n",
       "      <td>4.9</td>\n",
       "      <td>2024-08-26 12:30:00</td>\n",
       "      <td>3.0</td>\n",
       "      <td>Daffy</td>\n",
       "      <td>daffy@example.com</td>\n",
       "    </tr>\n",
       "    <tr>\n",
       "      <td>3</td>\n",
       "      <td>Shape of You</td>\n",
       "      <td>Ed Sheeran</td>\n",
       "      <td>Rock</td>\n",
       "      <td>NaN</td>\n",
       "      <td>NaN</td>\n",
       "      <td>3</td>\n",
       "      <td>NaN</td>\n",
       "      <td>NaT</td>\n",
       "      <td>NaN</td>\n",
       "      <td>None</td>\n",
       "      <td>None</td>\n",
       "    </tr>\n",
       "    <tr>\n",
       "      <td>4</td>\n",
       "      <td>Photograph</td>\n",
       "      <td>Ed Sheeran</td>\n",
       "      <td>Rock</td>\n",
       "      <td>NaN</td>\n",
       "      <td>NaN</td>\n",
       "      <td>4</td>\n",
       "      <td>NaN</td>\n",
       "      <td>NaT</td>\n",
       "      <td>NaN</td>\n",
       "      <td>None</td>\n",
       "      <td>None</td>\n",
       "    </tr>\n",
       "    <tr>\n",
       "      <td>5</td>\n",
       "      <td>Shivers</td>\n",
       "      <td>Ed Sheeran</td>\n",
       "      <td>Rock</td>\n",
       "      <td>NaN</td>\n",
       "      <td>NaN</td>\n",
       "      <td>5</td>\n",
       "      <td>NaN</td>\n",
       "      <td>NaT</td>\n",
       "      <td>NaN</td>\n",
       "      <td>None</td>\n",
       "      <td>None</td>\n",
       "    </tr>\n",
       "    <tr>\n",
       "      <td>6</td>\n",
       "      <td>Yesterday</td>\n",
       "      <td>Beatles</td>\n",
       "      <td>Classic</td>\n",
       "      <td>3.0</td>\n",
       "      <td>1.0</td>\n",
       "      <td>6</td>\n",
       "      <td>3.9</td>\n",
       "      <td>2024-08-29 10:15:00</td>\n",
       "      <td>1.0</td>\n",
       "      <td>Mickey</td>\n",
       "      <td>mickey@example.com</td>\n",
       "    </tr>\n",
       "    <tr>\n",
       "      <td>6</td>\n",
       "      <td>Yesterday</td>\n",
       "      <td>Beatles</td>\n",
       "      <td>Classic</td>\n",
       "      <td>9.0</td>\n",
       "      <td>3.0</td>\n",
       "      <td>6</td>\n",
       "      <td>NaN</td>\n",
       "      <td>NaT</td>\n",
       "      <td>3.0</td>\n",
       "      <td>Daffy</td>\n",
       "      <td>daffy@example.com</td>\n",
       "    </tr>\n",
       "    <tr>\n",
       "      <td>7</td>\n",
       "      <td>Yellow Submarine</td>\n",
       "      <td>Beatles</td>\n",
       "      <td>Classic</td>\n",
       "      <td>5.0</td>\n",
       "      <td>2.0</td>\n",
       "      <td>7</td>\n",
       "      <td>4.6</td>\n",
       "      <td>2024-08-28 09:20:00</td>\n",
       "      <td>2.0</td>\n",
       "      <td>Minnie</td>\n",
       "      <td>minnie@example.com</td>\n",
       "    </tr>\n",
       "    <tr>\n",
       "      <td>8</td>\n",
       "      <td>Hey Jude</td>\n",
       "      <td>Beatles</td>\n",
       "      <td>Classic</td>\n",
       "      <td>6.0</td>\n",
       "      <td>2.0</td>\n",
       "      <td>8</td>\n",
       "      <td>3.9</td>\n",
       "      <td>2024-08-27 16:45:00</td>\n",
       "      <td>2.0</td>\n",
       "      <td>Minnie</td>\n",
       "      <td>minnie@example.com</td>\n",
       "    </tr>\n",
       "    <tr>\n",
       "      <td>9</td>\n",
       "      <td>Bad Blood</td>\n",
       "      <td>Taylor Swift</td>\n",
       "      <td>Rock</td>\n",
       "      <td>NaN</td>\n",
       "      <td>NaN</td>\n",
       "      <td>9</td>\n",
       "      <td>NaN</td>\n",
       "      <td>NaT</td>\n",
       "      <td>NaN</td>\n",
       "      <td>None</td>\n",
       "      <td>None</td>\n",
       "    </tr>\n",
       "    <tr>\n",
       "      <td>10</td>\n",
       "      <td>DJ Mix</td>\n",
       "      <td>DJ</td>\n",
       "      <td>None</td>\n",
       "      <td>NaN</td>\n",
       "      <td>NaN</td>\n",
       "      <td>10</td>\n",
       "      <td>NaN</td>\n",
       "      <td>NaT</td>\n",
       "      <td>NaN</td>\n",
       "      <td>None</td>\n",
       "      <td>None</td>\n",
       "    </tr>\n",
       "  </tbody>\n",
       "</table>"
      ],
      "text/plain": [
       "<IPython.core.display.HTML object>"
      ]
     },
     "metadata": {},
     "output_type": "display_data"
    }
   ],
   "source": [
    "#Create one single table for songs and listens. Redundancies are allowed\n",
    "\n",
    "qry_large_table = \"\"\"\n",
    "SELECT * FROM Songs\n",
    "LEFT JOIN Listens ON Songs.song_id=Listens.song_id\n",
    "LEFT JOIN Users ON Listens.user_id=Users.user_id;\n",
    "\"\"\"\n",
    "display_query_result(cursor,qry_large_table)"
   ]
  },
  {
   "cell_type": "code",
   "execution_count": 73,
   "metadata": {
    "colab": {
     "base_uri": "https://localhost:8080/",
     "height": 336
    },
    "id": "KJUfbAzxcR8v",
    "outputId": "ef1b783c-5fdf-4b0d-ce66-1201a5ee4d29"
   },
   "outputs": [
    {
     "data": {
      "text/html": [
       "<b><font color='green'>\n",
       "SELECT Songs.song_id, Songs.title, Songs.artist, Listens.rating\n",
       "FROM Songs\n",
       "JOIN Listens ON Songs.song_id = Listens.song_id\n",
       "WHERE Listens.rating > 4.6\n",
       "</font></b><br><table border=\"1\" class=\"dataframe\">\n",
       "  <thead>\n",
       "    <tr style=\"text-align: right;\">\n",
       "      <th>song_id</th>\n",
       "      <th>title</th>\n",
       "      <th>artist</th>\n",
       "      <th>rating</th>\n",
       "    </tr>\n",
       "  </thead>\n",
       "  <tbody>\n",
       "    <tr>\n",
       "      <td>2</td>\n",
       "      <td>Willow</td>\n",
       "      <td>Taylor Swift</td>\n",
       "      <td>4.7</td>\n",
       "    </tr>\n",
       "    <tr>\n",
       "      <td>2</td>\n",
       "      <td>Willow</td>\n",
       "      <td>Taylor Swift</td>\n",
       "      <td>4.9</td>\n",
       "    </tr>\n",
       "  </tbody>\n",
       "</table>"
      ],
      "text/plain": [
       "<IPython.core.display.HTML object>"
      ]
     },
     "metadata": {},
     "output_type": "display_data"
    },
    {
     "data": {
      "text/html": [
       "<b><font color='green'>\n",
       "SELECT Songs.song_id, Songs.title, Songs.artist, AVG(Listens.rating)\n",
       "FROM Songs\n",
       "JOIN Listens ON Songs.song_id = Listens.song_id\n",
       "GROUP BY Songs.song_id, Songs.title, Songs.artist\n",
       "</font></b><br><table border=\"1\" class=\"dataframe\">\n",
       "  <thead>\n",
       "    <tr style=\"text-align: right;\">\n",
       "      <th>song_id</th>\n",
       "      <th>title</th>\n",
       "      <th>artist</th>\n",
       "      <th>AVG(Listens.rating)</th>\n",
       "    </tr>\n",
       "  </thead>\n",
       "  <tbody>\n",
       "    <tr>\n",
       "      <td>1</td>\n",
       "      <td>Evermore</td>\n",
       "      <td>Taylor Swift</td>\n",
       "      <td>3.7</td>\n",
       "    </tr>\n",
       "    <tr>\n",
       "      <td>2</td>\n",
       "      <td>Willow</td>\n",
       "      <td>Taylor Swift</td>\n",
       "      <td>4.6</td>\n",
       "    </tr>\n",
       "    <tr>\n",
       "      <td>6</td>\n",
       "      <td>Yesterday</td>\n",
       "      <td>Beatles</td>\n",
       "      <td>3.9</td>\n",
       "    </tr>\n",
       "    <tr>\n",
       "      <td>7</td>\n",
       "      <td>Yellow Submarine</td>\n",
       "      <td>Beatles</td>\n",
       "      <td>4.6</td>\n",
       "    </tr>\n",
       "    <tr>\n",
       "      <td>8</td>\n",
       "      <td>Hey Jude</td>\n",
       "      <td>Beatles</td>\n",
       "      <td>3.9</td>\n",
       "    </tr>\n",
       "  </tbody>\n",
       "</table>"
      ],
      "text/plain": [
       "<IPython.core.display.HTML object>"
      ]
     },
     "metadata": {},
     "output_type": "display_data"
    }
   ],
   "source": [
    "#Find the Highly Rates Songs. Consider Rating above 4.6 as highly rated\n",
    "\n",
    "qry_rating_songs=\"\"\"\n",
    "SELECT Songs.song_id, Songs.title, Songs.artist, Listens.rating\n",
    "FROM Songs\n",
    "JOIN Listens ON Songs.song_id = Listens.song_id\n",
    "WHERE Listens.rating > 4.6\n",
    "\"\"\"\n",
    "display_query_result(cursor,qry_rating_songs)\n",
    "\n",
    "#Find tha average rating of every song\n",
    "\n",
    "qry_avg_songs=\"\"\"\n",
    "SELECT Songs.song_id, Songs.title, Songs.artist, AVG(Listens.rating)\n",
    "FROM Songs\n",
    "JOIN Listens ON Songs.song_id = Listens.song_id\n",
    "GROUP BY Songs.song_id, Songs.title, Songs.artist\n",
    "\"\"\"\n",
    "display_query_result(cursor,qry_avg_songs)\n",
    "\n"
   ]
  },
  {
   "cell_type": "code",
   "execution_count": 74,
   "metadata": {
    "colab": {
     "base_uri": "https://localhost:8080/",
     "height": 224
    },
    "id": "kZ7do5Vid58S",
    "outputId": "c26ec70f-ccde-4db4-a412-fc439dee8ec3"
   },
   "outputs": [
    {
     "data": {
      "text/html": [
       "<b><font color='green'>\n",
       "SELECT Songs.song_id, Songs.title, Songs.artist, count(Listens.song_id) as Popular_Songs_Count\n",
       "FROM Songs\n",
       "JOIN Listens\n",
       "ON Songs.song_id=Listens.song_id\n",
       "GROUP BY Songs.title, Songs.artist, Songs.song_id\n",
       "ORDER BY COUNT(Listens.song_id) DESC;\n",
       "</font></b><br><table border=\"1\" class=\"dataframe\">\n",
       "  <thead>\n",
       "    <tr style=\"text-align: right;\">\n",
       "      <th>song_id</th>\n",
       "      <th>title</th>\n",
       "      <th>artist</th>\n",
       "      <th>Popular_Songs_Count</th>\n",
       "    </tr>\n",
       "  </thead>\n",
       "  <tbody>\n",
       "    <tr>\n",
       "      <td>2</td>\n",
       "      <td>Willow</td>\n",
       "      <td>Taylor Swift</td>\n",
       "      <td>3</td>\n",
       "    </tr>\n",
       "    <tr>\n",
       "      <td>1</td>\n",
       "      <td>Evermore</td>\n",
       "      <td>Taylor Swift</td>\n",
       "      <td>2</td>\n",
       "    </tr>\n",
       "    <tr>\n",
       "      <td>6</td>\n",
       "      <td>Yesterday</td>\n",
       "      <td>Beatles</td>\n",
       "      <td>2</td>\n",
       "    </tr>\n",
       "    <tr>\n",
       "      <td>7</td>\n",
       "      <td>Yellow Submarine</td>\n",
       "      <td>Beatles</td>\n",
       "      <td>1</td>\n",
       "    </tr>\n",
       "    <tr>\n",
       "      <td>8</td>\n",
       "      <td>Hey Jude</td>\n",
       "      <td>Beatles</td>\n",
       "      <td>1</td>\n",
       "    </tr>\n",
       "  </tbody>\n",
       "</table>"
      ],
      "text/plain": [
       "<IPython.core.display.HTML object>"
      ]
     },
     "metadata": {},
     "output_type": "display_data"
    }
   ],
   "source": [
    "#Find the popular songs by counting the listens\n",
    "\n",
    "qry_pop_songs = \"\"\"\n",
    "SELECT Songs.song_id, Songs.title, Songs.artist, count(Listens.song_id) as Popular_Songs_Count\n",
    "FROM Songs\n",
    "JOIN Listens\n",
    "ON Songs.song_id=Listens.song_id\n",
    "GROUP BY Songs.title, Songs.artist, Songs.song_id\n",
    "ORDER BY COUNT(Listens.song_id) DESC;\n",
    "\"\"\"\n",
    "\n",
    "display_query_result(cursor, qry_pop_songs)"
   ]
  },
  {
   "cell_type": "code",
   "execution_count": 75,
   "metadata": {
    "colab": {
     "base_uri": "https://localhost:8080/",
     "height": 493
    },
    "id": "XcnhWdXBfbvA",
    "outputId": "b40e8d03-5a88-4220-f16a-b9d4c5d11f68"
   },
   "outputs": [
    {
     "data": {
      "text/html": [
       "<b><font color='green'>\n",
       "SELECT title, artist\n",
       "FROM Songs\n",
       "WHERE artist IN ('Ed Sheeran', 'Taylor Swift');\n",
       "</font></b><br><table border=\"1\" class=\"dataframe\">\n",
       "  <thead>\n",
       "    <tr style=\"text-align: right;\">\n",
       "      <th>title</th>\n",
       "      <th>artist</th>\n",
       "    </tr>\n",
       "  </thead>\n",
       "  <tbody>\n",
       "    <tr>\n",
       "      <td>Evermore</td>\n",
       "      <td>Taylor Swift</td>\n",
       "    </tr>\n",
       "    <tr>\n",
       "      <td>Willow</td>\n",
       "      <td>Taylor Swift</td>\n",
       "    </tr>\n",
       "    <tr>\n",
       "      <td>Shape of You</td>\n",
       "      <td>Ed Sheeran</td>\n",
       "    </tr>\n",
       "    <tr>\n",
       "      <td>Photograph</td>\n",
       "      <td>Ed Sheeran</td>\n",
       "    </tr>\n",
       "    <tr>\n",
       "      <td>Shivers</td>\n",
       "      <td>Ed Sheeran</td>\n",
       "    </tr>\n",
       "    <tr>\n",
       "      <td>Bad Blood</td>\n",
       "      <td>Taylor Swift</td>\n",
       "    </tr>\n",
       "  </tbody>\n",
       "</table>"
      ],
      "text/plain": [
       "<IPython.core.display.HTML object>"
      ]
     },
     "metadata": {},
     "output_type": "display_data"
    },
    {
     "data": {
      "text/html": [
       "<b><font color='green'>\n",
       "SELECT title, artist\n",
       "FROM Songs\n",
       "WHERE genre='Pop'\n",
       "UNION\n",
       "SELECT title, artist\n",
       "FROM Songs\n",
       "WHERE genre='Rock'\n",
       "</font></b><br><table border=\"1\" class=\"dataframe\">\n",
       "  <thead>\n",
       "    <tr style=\"text-align: right;\">\n",
       "      <th>title</th>\n",
       "      <th>artist</th>\n",
       "    </tr>\n",
       "  </thead>\n",
       "  <tbody>\n",
       "    <tr>\n",
       "      <td>Evermore</td>\n",
       "      <td>Taylor Swift</td>\n",
       "    </tr>\n",
       "    <tr>\n",
       "      <td>Willow</td>\n",
       "      <td>Taylor Swift</td>\n",
       "    </tr>\n",
       "    <tr>\n",
       "      <td>Shape of You</td>\n",
       "      <td>Ed Sheeran</td>\n",
       "    </tr>\n",
       "    <tr>\n",
       "      <td>Photograph</td>\n",
       "      <td>Ed Sheeran</td>\n",
       "    </tr>\n",
       "    <tr>\n",
       "      <td>Shivers</td>\n",
       "      <td>Ed Sheeran</td>\n",
       "    </tr>\n",
       "    <tr>\n",
       "      <td>Bad Blood</td>\n",
       "      <td>Taylor Swift</td>\n",
       "    </tr>\n",
       "  </tbody>\n",
       "</table>"
      ],
      "text/plain": [
       "<IPython.core.display.HTML object>"
      ]
     },
     "metadata": {},
     "output_type": "display_data"
    }
   ],
   "source": [
    "#Find songs by Ed Sheeran and Taylor Swift\n",
    "\n",
    "qry_edtaylor=\"\"\"\n",
    "SELECT title, artist\n",
    "FROM Songs\n",
    "WHERE artist IN ('Ed Sheeran', 'Taylor Swift');\n",
    "\"\"\"\n",
    "display_query_result(cursor, qry_edtaylor)\n",
    "\n",
    "#Find songs from both pop and rock genres\n",
    "\n",
    "qry_popandrock = \"\"\"\n",
    "SELECT title, artist\n",
    "FROM Songs\n",
    "WHERE genre='Pop'\n",
    "UNION\n",
    "SELECT title, artist\n",
    "FROM Songs\n",
    "WHERE genre='Rock'\n",
    "\"\"\"\n",
    "display_query_result(cursor, qry_popandrock)\n"
   ]
  },
  {
   "cell_type": "code",
   "execution_count": 76,
   "metadata": {
    "colab": {
     "base_uri": "https://localhost:8080/",
     "height": 161
    },
    "id": "I9tVVcvAgsvQ",
    "outputId": "1ee2d714-e91e-49b2-9b9b-90c8da38c536"
   },
   "outputs": [
    {
     "data": {
      "text/html": [
       "<b><font color='green'>\n",
       "SELECT title, artist\n",
       "FROM Songs\n",
       "WHERE song_id IN (SELECT song_id FROM Listens WHERE Listens.listen_time IS NULL);\n",
       "</font></b><br><table border=\"1\" class=\"dataframe\">\n",
       "  <thead>\n",
       "    <tr style=\"text-align: right;\">\n",
       "      <th>title</th>\n",
       "      <th>artist</th>\n",
       "    </tr>\n",
       "  </thead>\n",
       "  <tbody>\n",
       "    <tr>\n",
       "      <td>Willow</td>\n",
       "      <td>Taylor Swift</td>\n",
       "    </tr>\n",
       "    <tr>\n",
       "      <td>Evermore</td>\n",
       "      <td>Taylor Swift</td>\n",
       "    </tr>\n",
       "    <tr>\n",
       "      <td>Yesterday</td>\n",
       "      <td>Beatles</td>\n",
       "    </tr>\n",
       "  </tbody>\n",
       "</table>"
      ],
      "text/plain": [
       "<IPython.core.display.HTML object>"
      ]
     },
     "metadata": {},
     "output_type": "display_data"
    }
   ],
   "source": [
    "#Find songs listened to by user_id 1\n",
    "\n",
    "qry_listen_usr=\"\"\"\n",
    "SELECT title, artist\n",
    "FROM Songs\n",
    "WHERE song_id IN (SELECT song_id FROM Listens WHERE Listens.listen_time IS NULL);\n",
    "\"\"\"\n",
    "display_query_result(cursor,qry_listen_usr)"
   ]
  },
  {
   "cell_type": "code",
   "execution_count": 23,
   "metadata": {},
   "outputs": [],
   "source": [
    "#Data Insertion into Reccomandation table \n",
    "query=cursor.execute(\"\"\" INSERT INTO Recommendations (recommendation_id, recommendation_time, user_id, song_id)\n",
    "SELECT \n",
    "  ROW_NUMBER() OVER () AS recommendation_id,\n",
    "  CURRENT_TIMESTAMP() AS recommendation_time,\n",
    "  user_id,\n",
    "  song_id\n",
    "FROM (\n",
    "  WITH song_similarity AS (\n",
    "    SELECT u1.song_id AS song1, u2.song_id AS song2, COUNT(*) AS common_users\n",
    "    FROM Listens u1\n",
    "    JOIN Listens u2 ON u1.user_id = u2.user_id AND u1.song_id != u2.song_id\n",
    "    GROUP BY u1.song_id, u2.song_id\n",
    "    HAVING COUNT(*) > 1\n",
    "  ),\n",
    "  recs AS (\n",
    "    SELECT L.user_id, song2 AS song_id\n",
    "    FROM song_similarity\n",
    "    JOIN Listens AS L ON L.song_id = song_similarity.song1\n",
    "    WHERE song_similarity.song2 NOT IN (\n",
    "      SELECT song_id FROM Listens AS temp WHERE temp.user_id = L.user_id\n",
    "    )\n",
    "  )\n",
    "  SELECT * FROM recs\n",
    ") AS recommendations;\n",
    "\"\"\")\n",
    "\n"
   ]
  },
  {
   "cell_type": "code",
   "execution_count": 77,
   "metadata": {
    "colab": {
     "base_uri": "https://localhost:8080/",
     "height": 129
    },
    "id": "vudHinsaiRoD",
    "outputId": "0e84b8e2-7295-47e6-c142-452e3883e4ba"
   },
   "outputs": [
    {
     "data": {
      "text/html": [
       "<b><font color='green'>\n",
       "WITH song_similarity AS (\n",
       "SELECT u1.song_id as song1, u2.song_id as song2, COUNT(*) AS common_users\n",
       "FROM LISTENS u1\n",
       "JOIN LISTENS u2\n",
       "ON u1.user_id=u2.user_id\n",
       "AND u1.song_id != u2.song_id\n",
       "GROUP BY u1.song_id, u2.song_id\n",
       "HAVING COUNT(*)>1\n",
       "),\n",
       "\n",
       "recs AS (\n",
       "  SELECT user_id, song2 as song_id\n",
       "  FROM song_similarity\n",
       "  JOIN Listens as L\n",
       "  ON L.song_id = song_similarity.song1\n",
       "  WHERE song_similarity.song2 NOT IN\n",
       "  (SELECT song_id FROM Listens as temp where temp.user_id=L.user_id)\n",
       ")\n",
       "select * from recs;\n",
       "</font></b><br><table border=\"1\" class=\"dataframe\">\n",
       "  <thead>\n",
       "    <tr style=\"text-align: right;\">\n",
       "      <th>user_id</th>\n",
       "      <th>song_id</th>\n",
       "    </tr>\n",
       "  </thead>\n",
       "  <tbody>\n",
       "    <tr>\n",
       "      <td>2</td>\n",
       "      <td>1</td>\n",
       "    </tr>\n",
       "    <tr>\n",
       "      <td>2</td>\n",
       "      <td>6</td>\n",
       "    </tr>\n",
       "  </tbody>\n",
       "</table>"
      ],
      "text/plain": [
       "<IPython.core.display.HTML object>"
      ]
     },
     "metadata": {},
     "output_type": "display_data"
    }
   ],
   "source": [
    "#Computing the recommendations\n",
    "#Find the song pairs which are shared across > 1 user\n",
    "\n",
    "qry_sharing=\"\"\"\n",
    "WITH song_similarity AS (\n",
    "SELECT u1.song_id as song1, u2.song_id as song2, COUNT(*) AS common_users\n",
    "FROM LISTENS u1\n",
    "JOIN LISTENS u2\n",
    "ON u1.user_id=u2.user_id\n",
    "AND u1.song_id != u2.song_id\n",
    "GROUP BY u1.song_id, u2.song_id\n",
    "HAVING COUNT(*)>1\n",
    "),\n",
    "\n",
    "recs AS (\n",
    "  SELECT user_id, song2 as song_id\n",
    "  FROM song_similarity\n",
    "  JOIN Listens as L\n",
    "  ON L.song_id = song_similarity.song1\n",
    "  WHERE song_similarity.song2 NOT IN\n",
    "  (SELECT song_id FROM Listens as temp where temp.user_id=L.user_id)\n",
    ")\n",
    "select * from recs;\n",
    "\"\"\"\n",
    "display_query_result(cursor, qry_sharing)"
   ]
  },
  {
   "cell_type": "code",
   "execution_count": 78,
   "metadata": {},
   "outputs": [
    {
     "data": {
      "text/html": [
       "<b><font color='green'>SELECT s.song_id, s.title, s.artist, AVG(l.rating) AS avg_rating\n",
       "FROM Songs s\n",
       "JOIN Listens l ON s.song_id = l.song_id\n",
       "WHERE s.song_id NOT IN (\n",
       "    SELECT song_id FROM Listens WHERE user_id = 2\n",
       ")\n",
       "AND l.rating IS NOT NULL\n",
       "GROUP BY s.song_id, s.title, s.artist\n",
       "ORDER BY avg_rating DESC;\n",
       "</font></b><br><table border=\"1\" class=\"dataframe\">\n",
       "  <thead>\n",
       "    <tr style=\"text-align: right;\">\n",
       "      <th>song_id</th>\n",
       "      <th>title</th>\n",
       "      <th>artist</th>\n",
       "      <th>avg_rating</th>\n",
       "    </tr>\n",
       "  </thead>\n",
       "  <tbody>\n",
       "    <tr>\n",
       "      <td>6</td>\n",
       "      <td>Yesterday</td>\n",
       "      <td>Beatles</td>\n",
       "      <td>3.9</td>\n",
       "    </tr>\n",
       "    <tr>\n",
       "      <td>1</td>\n",
       "      <td>Evermore</td>\n",
       "      <td>Taylor Swift</td>\n",
       "      <td>3.7</td>\n",
       "    </tr>\n",
       "  </tbody>\n",
       "</table>"
      ],
      "text/plain": [
       "<IPython.core.display.HTML object>"
      ]
     },
     "metadata": {},
     "output_type": "display_data"
    }
   ],
   "source": [
    "# Recommendations for minnie\n",
    "\n",
    "query = '''SELECT s.song_id, s.title, s.artist, AVG(l.rating) AS avg_rating\n",
    "FROM Songs s\n",
    "JOIN Listens l ON s.song_id = l.song_id\n",
    "WHERE s.song_id NOT IN (\n",
    "    SELECT song_id FROM Listens WHERE user_id = 2\n",
    ")\n",
    "AND l.rating IS NOT NULL\n",
    "GROUP BY s.song_id, s.title, s.artist\n",
    "ORDER BY avg_rating DESC;\n",
    "'''\n",
    "\n",
    "display_query_result(cursor, query)"
   ]
  },
  {
   "cell_type": "code",
   "execution_count": 79,
   "metadata": {},
   "outputs": [
    {
     "data": {
      "text/html": [
       "<b><font color='green'>SELECT s.song_id, s.title, s.artist, AVG(l.rating) AS avg_rating\n",
       "FROM Songs s\n",
       "JOIN Listens l ON s.song_id = l.song_id\n",
       "WHERE l.listen_time IS NOT NULL\n",
       "AND l.rating IS NOT NULL\n",
       "AND s.song_id NOT IN (\n",
       "    SELECT song_id FROM Listens WHERE user_id = 2\n",
       ")\n",
       "GROUP BY s.song_id, s.title, s.artist\n",
       "ORDER BY avg_rating DESC;\n",
       "\n",
       "</font></b><br><table border=\"1\" class=\"dataframe\">\n",
       "  <thead>\n",
       "    <tr style=\"text-align: right;\">\n",
       "      <th>song_id</th>\n",
       "      <th>title</th>\n",
       "      <th>artist</th>\n",
       "      <th>avg_rating</th>\n",
       "    </tr>\n",
       "  </thead>\n",
       "  <tbody>\n",
       "    <tr>\n",
       "      <td>1</td>\n",
       "      <td>Evermore</td>\n",
       "      <td>Taylor Swift</td>\n",
       "      <td>4.5</td>\n",
       "    </tr>\n",
       "    <tr>\n",
       "      <td>6</td>\n",
       "      <td>Yesterday</td>\n",
       "      <td>Beatles</td>\n",
       "      <td>3.9</td>\n",
       "    </tr>\n",
       "  </tbody>\n",
       "</table>"
      ],
      "text/plain": [
       "<IPython.core.display.HTML object>"
      ]
     },
     "metadata": {},
     "output_type": "display_data"
    }
   ],
   "source": [
    "# Recommendations on the basis of listen time\n",
    "\n",
    "query = '''SELECT s.song_id, s.title, s.artist, AVG(l.rating) AS avg_rating\n",
    "FROM Songs s\n",
    "JOIN Listens l ON s.song_id = l.song_id\n",
    "WHERE l.listen_time IS NOT NULL\n",
    "AND l.rating IS NOT NULL\n",
    "AND s.song_id NOT IN (\n",
    "    SELECT song_id FROM Listens WHERE user_id = 2\n",
    ")\n",
    "GROUP BY s.song_id, s.title, s.artist\n",
    "ORDER BY avg_rating DESC;\n",
    "\n",
    "'''\n",
    "\n",
    "display_query_result(cursor, query)"
   ]
  },
  {
   "cell_type": "code",
   "execution_count": 92,
   "metadata": {},
   "outputs": [
    {
     "data": {
      "text/html": [
       "<b><font color='green'>SELECT s.song_id, s.title, s.artist, AVG(l.rating) AS avg_rating\n",
       "FROM Listens l\n",
       "JOIN Songs s ON l.song_id = s.song_id\n",
       "WHERE l.user_id != 2\n",
       "AND l.song_id NOT IN (\n",
       "    SELECT song_id FROM Listens WHERE user_id = 2\n",
       ")\n",
       "AND l.rating IS NOT NULL\n",
       "GROUP BY s.song_id, s.title, s.artist\n",
       "ORDER BY avg_rating DESC;\n",
       "</font></b><br><table border=\"1\" class=\"dataframe\">\n",
       "  <thead>\n",
       "    <tr style=\"text-align: right;\">\n",
       "      <th>song_id</th>\n",
       "      <th>title</th>\n",
       "      <th>artist</th>\n",
       "      <th>avg_rating</th>\n",
       "    </tr>\n",
       "  </thead>\n",
       "  <tbody>\n",
       "    <tr>\n",
       "      <td>6</td>\n",
       "      <td>Yesterday</td>\n",
       "      <td>Beatles</td>\n",
       "      <td>3.9</td>\n",
       "    </tr>\n",
       "    <tr>\n",
       "      <td>1</td>\n",
       "      <td>Evermore</td>\n",
       "      <td>Taylor Swift</td>\n",
       "      <td>3.7</td>\n",
       "    </tr>\n",
       "  </tbody>\n",
       "</table>"
      ],
      "text/plain": [
       "<IPython.core.display.HTML object>"
      ]
     },
     "metadata": {},
     "output_type": "display_data"
    }
   ],
   "source": [
    "# Generating new recommendations\n",
    "\n",
    "query = '''SELECT s.song_id, s.title, s.artist, AVG(l.rating) AS avg_rating\n",
    "FROM Listens l\n",
    "JOIN Songs s ON l.song_id = s.song_id\n",
    "WHERE l.user_id != 2\n",
    "AND l.song_id NOT IN (\n",
    "    SELECT song_id FROM Listens WHERE user_id = 2\n",
    ")\n",
    "AND l.rating IS NOT NULL\n",
    "GROUP BY s.song_id, s.title, s.artist\n",
    "ORDER BY avg_rating DESC;\n",
    "'''\n",
    "\n",
    "display_query_result(cursor, query)"
   ]
  },
  {
   "cell_type": "code",
   "execution_count": 24,
   "metadata": {},
   "outputs": [],
   "source": [
    "connection.commit()\n",
    "connection.close()"
   ]
  },
  {
   "cell_type": "code",
   "execution_count": null,
   "metadata": {},
   "outputs": [],
   "source": []
  }
 ],
 "metadata": {
  "colab": {
   "provenance": []
  },
  "kernelspec": {
   "display_name": "Python 3 (ipykernel)",
   "language": "python",
   "name": "python3"
  },
  "language_info": {
   "codemirror_mode": {
    "name": "ipython",
    "version": 3
   },
   "file_extension": ".py",
   "mimetype": "text/x-python",
   "name": "python",
   "nbconvert_exporter": "python",
   "pygments_lexer": "ipython3",
   "version": "3.9.13"
  },
  "vscode": {
   "interpreter": {
    "hash": "aee8b7b246df8f9039afb4144a1f6fd8d2ca17a180786b69acc140d282b71a49"
   }
  }
 },
 "nbformat": 4,
 "nbformat_minor": 1
}
